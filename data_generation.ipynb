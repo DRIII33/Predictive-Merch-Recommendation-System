{
  "cells": [
    {
      "cell_type": "markdown",
      "source": [
        "#**Data Generation**"
      ],
      "metadata": {
        "id": "FTai2LReLQJf"
      }
    },
    {
      "cell_type": "code",
      "source": [
        "# Import necessary libraries\n",
        "import pandas as pd\n",
        "import numpy as np\n",
        "from datetime import datetime, timedelta\n",
        "import random\n",
        "\n",
        "# Set a seed for reproducibility\n",
        "random.seed(42)\n",
        "np.random.seed(42)\n",
        "\n",
        "# --- Define Parameters ---\n",
        "num_artists = 50\n",
        "num_users = 10000\n",
        "num_music_videos = 200\n",
        "num_tour_dates = 500\n",
        "num_merch_sales = 15000\n",
        "start_date = datetime(2024, 1, 1)\n",
        "end_date = datetime(2025, 8, 7)\n",
        "\n",
        "# --- Generate Mock Artist and User IDs ---\n",
        "artists = [f'ARTIST_{i:03d}' for i in range(num_artists)]\n",
        "users = [f'USER_{i:05d}' for i in range(num_users)]\n",
        "merchandise_ids = [f'MERCH_{i:04d}' for i in range(200)]\n",
        "\n",
        "# --- Generate Mock Music Video Data ---\n",
        "print(\"Generating music_videos.csv...\")\n",
        "video_data = {\n",
        "    'video_id': [f'VIDEO_{i:04d}' for i in range(num_music_videos)],\n",
        "    'artist_id': np.random.choice(artists, num_music_videos),\n",
        "    'release_date': [start_date + timedelta(days=random.randint(0, (end_date - start_date).days)) for _ in range(num_music_videos)],\n",
        "    'merch_worn_by_artist': np.random.choice([True, False], num_music_videos, p=[0.2, 0.8]),\n",
        "    'merch_worn_by_key_player': np.random.choice([True, False], num_music_videos, p=[0.3, 0.7]),\n",
        "    'video_views': np.random.randint(10000, 50000000, num_music_videos),\n",
        "    'video_likes': np.random.randint(500, 1000000, num_music_videos),\n",
        "    'video_comments': np.random.randint(50, 50000, num_music_videos)\n",
        "}\n",
        "music_videos_df = pd.DataFrame(video_data)\n",
        "music_videos_df.to_csv('music_videos.csv', index=False)\n",
        "print(\"music_videos.csv generated.\")\n",
        "\n",
        "# --- Generate Mock Tour Dates Data ---\n",
        "print(\"Generating tour_dates.csv...\")\n",
        "cities = ['New York', 'Los Angeles', 'London', 'Tokyo', 'Paris', 'Berlin', 'Sydney', 'Toronto', 'Chicago', 'Mexico City']\n",
        "tour_data = {\n",
        "    'tour_id': [f'TOUR_{i:04d}' for i in range(num_tour_dates)],\n",
        "    'artist_id': np.random.choice(artists, num_tour_dates, p=np.random.dirichlet(np.ones(num_artists))), # More popular artists tour more\n",
        "    'tour_city': np.random.choice(cities, num_tour_dates),\n",
        "    'tour_date': [start_date + timedelta(days=random.randint(0, (end_date - start_date).days)) for _ in range(num_tour_dates)],\n",
        "    'is_headlining': np.random.choice([True, False], num_tour_dates, p=[0.6, 0.4])\n",
        "}\n",
        "tour_dates_df = pd.DataFrame(tour_data)\n",
        "tour_dates_df.to_csv('tour_dates.csv', index=False)\n",
        "print(\"tour_dates.csv generated.\")\n",
        "\n",
        "# --- Generate Mock Merchandise Sales Data ---\n",
        "print(\"Generating merchandise_sales.csv...\")\n",
        "# Simulate higher sales after a video release or during a tour\n",
        "sale_dates = []\n",
        "for _ in range(num_merch_sales):\n",
        "    if random.random() < 0.6: # 60% chance sale is linked to an event\n",
        "        if random.random() < 0.5: # 50% chance it's video-related\n",
        "            related_video = music_videos_df.sample(1).iloc[0]\n",
        "            sale_date = related_video['release_date'] + timedelta(days=random.randint(0, 30))\n",
        "        else: # 50% chance it's tour-related\n",
        "            related_tour = tour_dates_df.sample(1).iloc[0]\n",
        "            sale_date = related_tour['tour_date'] + timedelta(days=random.randint(-14, 14))\n",
        "    else: # 40% chance it's a random sale\n",
        "        sale_date = start_date + timedelta(days=random.randint(0, (end_date - start_date).days))\n",
        "    sale_dates.append(sale_date)\n",
        "\n",
        "sales_data = {\n",
        "    'sale_id': [f'SALE_{i:05d}' for i in range(num_merch_sales)],\n",
        "    'user_id': np.random.choice(users, num_merch_sales),\n",
        "    'artist_id': np.random.choice(artists, num_merch_sales),\n",
        "    'merchandise_id': np.random.choice(merchandise_ids, num_merch_sales),\n",
        "    'sale_date': sale_dates,\n",
        "    'sale_price': np.random.uniform(15.0, 75.0, num_merch_sales).round(2)\n",
        "}\n",
        "merchandise_sales_df = pd.DataFrame(sales_data)\n",
        "merchandise_sales_df.to_csv('merchandise_sales.csv', index=False)\n",
        "print(\"merchandise_sales.csv generated.\")\n",
        "\n",
        "# --- Generate Mock Fan Engagement Data ---\n",
        "print(\"Generating fan_engagement.csv...\")\n",
        "num_engagements = 100000\n",
        "engagement_types = ['comment', 'share', 'like', 'listen']\n",
        "user_locations = ['New York', 'Los Angeles', 'London', 'Tokyo', 'Paris']\n",
        "user_demographics = ['18-24', '25-34', '35-44', '45+']\n",
        "\n",
        "engagement_data = {\n",
        "    'user_id': np.random.choice(users, num_engagements),\n",
        "    'artist_id': np.random.choice(artists, num_engagements),\n",
        "    'engagement_type': np.random.choice(engagement_types, num_engagements, p=[0.1, 0.05, 0.5, 0.35]),\n",
        "    'engagement_date': [start_date + timedelta(days=random.randint(0, (end_date - start_date).days)) for _ in range(num_engagements)],\n",
        "    'user_location': np.random.choice(user_locations, num_engagements),\n",
        "    'user_demographics': np.random.choice(user_demographics, num_engagements)\n",
        "}\n",
        "fan_engagement_df = pd.DataFrame(engagement_data)\n",
        "fan_engagement_df.to_csv('fan_engagement.csv', index=False)\n",
        "print(\"fan_engagement.csv generated.\")\n",
        "\n",
        "print(\"\\nAll mock data files have been successfully generated.\")"
      ],
      "outputs": [
        {
          "output_type": "stream",
          "name": "stdout",
          "text": [
            "Generating music_videos.csv...\n",
            "music_videos.csv generated.\n",
            "Generating tour_dates.csv...\n",
            "tour_dates.csv generated.\n",
            "Generating merchandise_sales.csv...\n",
            "merchandise_sales.csv generated.\n",
            "Generating fan_engagement.csv...\n",
            "fan_engagement.csv generated.\n",
            "\n",
            "All mock data files have been successfully generated.\n"
          ]
        }
      ],
      "execution_count": 1,
      "metadata": {
        "colab": {
          "base_uri": "https://localhost:8080/"
        },
        "id": "lHln5waCLQJm",
        "outputId": "0e9d7ffc-5ef1-4bc2-8390-8864c46b7a57"
      }
    }
  ],
  "metadata": {
    "colab": {
      "provenance": []
    },
    "kernelspec": {
      "display_name": "Python 3",
      "name": "python3"
    }
  },
  "nbformat": 4,
  "nbformat_minor": 0
}